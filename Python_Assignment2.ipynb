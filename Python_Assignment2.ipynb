{
 "cells": [
  {
   "cell_type": "markdown",
   "metadata": {
    "colab_type": "text",
    "id": "I4mbU4Nwe4cQ"
   },
   "source": [
    "### Problem 1: \n",
    "Create the below pattern using nested for loop in Python\n",
    "\n"
   ]
  },
  {
   "cell_type": "code",
   "execution_count": 64,
   "metadata": {
    "colab": {
     "base_uri": "https://localhost:8080/",
     "height": 185
    },
    "colab_type": "code",
    "id": "nVKjosxhevnO",
    "outputId": "f7f3582f-2792-4232-8ded-7f711b3622ca"
   },
   "outputs": [
    {
     "name": "stdout",
     "output_type": "stream",
     "text": [
      "\n",
      "*\n",
      "**\n",
      "***\n",
      "****\n",
      "*****\n",
      "****\n",
      "***\n",
      "**\n",
      "*\n"
     ]
    }
   ],
   "source": [
    "def create_pattern(start=0, n=5, step=1):\n",
    "  \"\"\"print * based on the range\"\"\"\n",
    "  for i in range(start,n,step):\n",
    "    for j in range(i):\n",
    "      print(\"*\", end=\"\")\n",
    "    print()\n",
    "\n",
    "create_pattern()\n",
    "create_pattern(5,0,-1)\n",
    "  "
   ]
  },
  {
   "cell_type": "markdown",
   "metadata": {
    "colab_type": "text",
    "id": "TRlGc3bEmY2w"
   },
   "source": [
    "### Problem 2: \n",
    "Write a Python program to reverse a word after accepting the input from the user.\n",
    "\n",
    "Sample Output:\n",
    "```\n",
    "Input word: ineuron\n",
    "Output: norueni\n",
    "```"
   ]
  },
  {
   "cell_type": "code",
   "execution_count": 84,
   "metadata": {
    "colab": {
     "base_uri": "https://localhost:8080/",
     "height": 50
    },
    "colab_type": "code",
    "id": "TDQuW9WIivrr",
    "outputId": "02aa4f7f-190b-40ce-a497-cec756d0bf4d"
   },
   "outputs": [
    {
     "name": "stdout",
     "output_type": "stream",
     "text": [
      "Input Word: arpan\n",
      "Output :  napra\n"
     ]
    }
   ],
   "source": [
    "input_word = list(input(\"Input Word: \"))\n",
    "reverse_string = ''.join(input_word[::-1])\n",
    "print(\"Output : \", reverse_string)"
   ]
  }
 ],
 "metadata": {
  "colab": {
   "collapsed_sections": [],
   "name": "Python_Assignment2.ipynb",
   "provenance": []
  },
  "kernelspec": {
   "display_name": "Python 3",
   "language": "python",
   "name": "python3"
  },
  "language_info": {
   "codemirror_mode": {
    "name": "ipython",
    "version": 3
   },
   "file_extension": ".py",
   "mimetype": "text/x-python",
   "name": "python",
   "nbconvert_exporter": "python",
   "pygments_lexer": "ipython3",
   "version": "3.8.3"
  }
 },
 "nbformat": 4,
 "nbformat_minor": 1
}
